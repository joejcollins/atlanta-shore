{
 "cells": [
  {
   "cell_type": "markdown",
   "metadata": {},
   "source": [
    "# Demonstration of Canopy Cover Calculation\n",
    "\n",
    "Use a randomly generated image instead of an actual image of the canopy cover.\n",
    "The `RandomState` object is a Pseudo Random Number Generator,\n",
    "so the \"random\" numbers are repeatable.\n",
    "\n",
    "FYI The `numpy` version of `randint` is exclusive, so you specify 0, 2.\n",
    "If you were using the built in Python `random` then you would use 0, 1\n",
    "because it is inclusive."
   ]
  },
  {
   "cell_type": "code",
   "execution_count": 38,
   "metadata": {},
   "outputs": [
    {
     "name": "stdout",
     "output_type": "stream",
     "text": [
      "[[0 0 0 0 1 0 0 1 1]\n",
      " [1 1 0 1 0 0 0 1 0]\n",
      " [1 0 1 1 0 0 1 1 1]\n",
      " [0 1 1 0 0 1 1 0 0]\n",
      " [0 0 1 1 0 1 0 1 1]]\n",
      "Percentage canopy 22/45 = 0.49\n"
     ]
    },
    {
     "data": {
      "text/plain": [
       "<matplotlib.image.AxesImage at 0x7fa894779cf0>"
      ]
     },
     "execution_count": 38,
     "metadata": {},
     "output_type": "execute_result"
    },
    {
     "data": {
      "image/png": "[encoded data removed]",
      "text/plain": [
       "<Figure size 800x300 with 1 Axes>"
      ]
     },
     "metadata": {},
     "output_type": "display_data"
    }
   ],
   "source": [
    "\"\"\"Create a dummy canopy image.\"\"\"\n",
    "import numpy\n",
    "from matplotlib import pyplot\n",
    "from numpy import random\n",
    "from skimage import draw\n",
    "\n",
    "PRNG = random.RandomState(seed=2024)  # The Pseudo Random Number Generator.\n",
    "WIDTH = 5\n",
    "HEIGHT = 9\n",
    "CANOPY_IMAGE = PRNG.randint(0, 2, size=(WIDTH, HEIGHT))  # cols then rows 'cos it's an array.\n",
    "print(CANOPY_IMAGE)\n",
    "\n",
    "TOTAL_PIXELS = WIDTH * HEIGHT\n",
    "CANOPY_PIXELS = numpy.sum(CANOPY_IMAGE)\n",
    "PERCENTAGE_CANOPY = CANOPY_PIXELS / TOTAL_PIXELS\n",
    "print(F\"Percentage canopy {CANOPY_PIXELS}/{TOTAL_PIXELS} = {PERCENTAGE_CANOPY:.2f}\")\n",
    "\n",
    "figure, axes = pyplot.subplots(figsize=(8,3))\n",
    "axes.imshow(CANOPY_IMAGE)"
   ]
  },
  {
   "cell_type": "markdown",
   "metadata": {},
   "source": [
    "So what would a circle look like if it was in this array?"
   ]
  },
  {
   "cell_type": "code",
   "execution_count": 39,
   "metadata": {},
   "outputs": [
    {
     "data": {
      "text/plain": [
       "(np.float64(-0.5), np.float64(8.5), np.float64(4.5), np.float64(-0.5))"
      ]
     },
     "execution_count": 39,
     "metadata": {},
     "output_type": "execute_result"
    },
    {
     "data": {
      "image/png": "[encoded data removed]",
      "text/plain": [
       "<Figure size 800x300 with 1 Axes>"
      ]
     },
     "metadata": {},
     "output_type": "display_data"
    }
   ],
   "source": [
    "\"\"\"Create a circular mask.\"\"\"\n",
    "CANOPY_IMAGE_SHAPE = CANOPY_IMAGE.shape\n",
    "ROWS = CANOPY_IMAGE_SHAPE[0]\n",
    "COLUMNS = CANOPY_IMAGE_SHAPE[1]\n",
    "\n",
    "SHORTEST_SIDE = min(ROWS, COLUMNS)\n",
    "RADIUS = SHORTEST_SIDE // 2\n",
    "CENTER_Y = ROWS // 2\n",
    "CENTER_X = COLUMNS // 2\n",
    "\n",
    "# Create a mask with a circle\n",
    "CANOPY_IMAGE_MASK = numpy.zeros(CANOPY_IMAGE_SHAPE, dtype=bool)\n",
    "rr, cc = draw.disk((CENTER_Y, CENTER_X), RADIUS, shape=(ROWS, COLUMNS))\n",
    "CANOPY_IMAGE_MASK[rr, cc] = True\n",
    "\n",
    "figure, axes = pyplot.subplots(figsize=(8,3))\n",
    "axes.imshow(CANOPY_IMAGE_MASK)\n",
    "axes.axis('on')"
   ]
  },
  {
   "cell_type": "markdown",
   "metadata": {},
   "source": [
    "Okay it looks like a square because the resolution is so low.\n",
    "If you ramp up the resolution it starts looking like a circle,\n",
    "but the resolution is kept low so you can count the pixels\n",
    "and confirm everything manually."
   ]
  }
 ],
 "metadata": {
  "kernelspec": {
   "display_name": ".venv",
   "language": "python",
   "name": "python3"
  },
  "language_info": {
   "codemirror_mode": {
    "name": "ipython",
    "version": 3
   },
   "file_extension": ".py",
   "mimetype": "text/x-python",
   "name": "python",
   "nbconvert_exporter": "python",
   "pygments_lexer": "ipython3",
   "version": "3.10.12"
  }
 },
 "nbformat": 4,
 "nbformat_minor": 2
}
