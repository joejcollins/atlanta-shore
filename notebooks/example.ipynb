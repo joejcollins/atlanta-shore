{
 "cells": [
  {
   "metadata": {
    "collapsed": true,
    "trusted": false,
    "ExecuteTime": {
     "end_time": "2023-10-18T15:44:44.820387Z",
     "start_time": "2023-10-18T15:44:44.805336Z"
    }
   },
   "cell_type": "code",
   "source": [
    "import pandas\n",
    "\n",
    "records = pandas.read_csv(\"../data/processed/records.csv\")\n",
    "records"
   ],
   "execution_count": 5,
   "outputs": [
    {
     "data": {
      "text/plain": "            date  quadrat  waypoint grid_reference  photo_up photo_down  \\\n0     2019-02-01        9         1   TL6787633142  P2010002   P2010003   \n1     2019-02-01        9         1   TL6787633142  P2010002   P2010003   \n2     2019-02-01        9         1   TL6787633142  P2010002   P2010003   \n3     2019-02-01        9         1   TL6787633142  P2010002   P2010003   \n4     2019-02-01        9         1   TL6787633142  P2010002   P2010003   \n...          ...      ...       ...            ...       ...        ...   \n1596  2020-06-21        6         6   TL6776233143  P6210009   P6210010   \n1597  2020-06-21        6         6   TL6776233143  P6210009   P6210010   \n1598  2020-06-21        6         6   TL6776233143  P6210009   P6210010   \n1599  2020-06-21        6         6   TL6776233143  P6210009   P6210010   \n1600  2020-06-21        6         6   TL6776233143  P6210009   P6210010   \n\n      wetness  canopy                   species                    comments  \n0           1      95      Mercurialis perennis      Light covering of snow  \n1           1      95             Urtica dioica      Light covering of snow  \n2           1      95             Silene dioica      Light covering of snow  \n3           1      95           Fagus sylvatica      Light covering of snow  \n4           1      95            Sambucus nigra      Light covering of snow  \n...       ...     ...                       ...                         ...  \n1596        1       0         Myosotis arvensis  Near fence and arable crop  \n1597        1       0            Galium aparine  Near fence and arable crop  \n1598        1       0  Schedonorus arundinaceus  Near fence and arable crop  \n1599        1       0              Lamium album  Near fence and arable crop  \n1600        1       0         Bromus hordeaceus  Near fence and arable crop  \n\n[1601 rows x 10 columns]",
      "text/html": "<div>\n<style scoped>\n    .dataframe tbody tr th:only-of-type {\n        vertical-align: middle;\n    }\n\n    .dataframe tbody tr th {\n        vertical-align: top;\n    }\n\n    .dataframe thead th {\n        text-align: right;\n    }\n</style>\n<table border=\"1\" class=\"dataframe\">\n  <thead>\n    <tr style=\"text-align: right;\">\n      <th></th>\n      <th>date</th>\n      <th>quadrat</th>\n      <th>waypoint</th>\n      <th>grid_reference</th>\n      <th>photo_up</th>\n      <th>photo_down</th>\n      <th>wetness</th>\n      <th>canopy</th>\n      <th>species</th>\n      <th>comments</th>\n    </tr>\n  </thead>\n  <tbody>\n    <tr>\n      <th>0</th>\n      <td>2019-02-01</td>\n      <td>9</td>\n      <td>1</td>\n      <td>TL6787633142</td>\n      <td>P2010002</td>\n      <td>P2010003</td>\n      <td>1</td>\n      <td>95</td>\n      <td>Mercurialis perennis</td>\n      <td>Light covering of snow</td>\n    </tr>\n    <tr>\n      <th>1</th>\n      <td>2019-02-01</td>\n      <td>9</td>\n      <td>1</td>\n      <td>TL6787633142</td>\n      <td>P2010002</td>\n      <td>P2010003</td>\n      <td>1</td>\n      <td>95</td>\n      <td>Urtica dioica</td>\n      <td>Light covering of snow</td>\n    </tr>\n    <tr>\n      <th>2</th>\n      <td>2019-02-01</td>\n      <td>9</td>\n      <td>1</td>\n      <td>TL6787633142</td>\n      <td>P2010002</td>\n      <td>P2010003</td>\n      <td>1</td>\n      <td>95</td>\n      <td>Silene dioica</td>\n      <td>Light covering of snow</td>\n    </tr>\n    <tr>\n      <th>3</th>\n      <td>2019-02-01</td>\n      <td>9</td>\n      <td>1</td>\n      <td>TL6787633142</td>\n      <td>P2010002</td>\n      <td>P2010003</td>\n      <td>1</td>\n      <td>95</td>\n      <td>Fagus sylvatica</td>\n      <td>Light covering of snow</td>\n    </tr>\n    <tr>\n      <th>4</th>\n      <td>2019-02-01</td>\n      <td>9</td>\n      <td>1</td>\n      <td>TL6787633142</td>\n      <td>P2010002</td>\n      <td>P2010003</td>\n      <td>1</td>\n      <td>95</td>\n      <td>Sambucus nigra</td>\n      <td>Light covering of snow</td>\n    </tr>\n    <tr>\n      <th>...</th>\n      <td>...</td>\n      <td>...</td>\n      <td>...</td>\n      <td>...</td>\n      <td>...</td>\n      <td>...</td>\n      <td>...</td>\n      <td>...</td>\n      <td>...</td>\n      <td>...</td>\n    </tr>\n    <tr>\n      <th>1596</th>\n      <td>2020-06-21</td>\n      <td>6</td>\n      <td>6</td>\n      <td>TL6776233143</td>\n      <td>P6210009</td>\n      <td>P6210010</td>\n      <td>1</td>\n      <td>0</td>\n      <td>Myosotis arvensis</td>\n      <td>Near fence and arable crop</td>\n    </tr>\n    <tr>\n      <th>1597</th>\n      <td>2020-06-21</td>\n      <td>6</td>\n      <td>6</td>\n      <td>TL6776233143</td>\n      <td>P6210009</td>\n      <td>P6210010</td>\n      <td>1</td>\n      <td>0</td>\n      <td>Galium aparine</td>\n      <td>Near fence and arable crop</td>\n    </tr>\n    <tr>\n      <th>1598</th>\n      <td>2020-06-21</td>\n      <td>6</td>\n      <td>6</td>\n      <td>TL6776233143</td>\n      <td>P6210009</td>\n      <td>P6210010</td>\n      <td>1</td>\n      <td>0</td>\n      <td>Schedonorus arundinaceus</td>\n      <td>Near fence and arable crop</td>\n    </tr>\n    <tr>\n      <th>1599</th>\n      <td>2020-06-21</td>\n      <td>6</td>\n      <td>6</td>\n      <td>TL6776233143</td>\n      <td>P6210009</td>\n      <td>P6210010</td>\n      <td>1</td>\n      <td>0</td>\n      <td>Lamium album</td>\n      <td>Near fence and arable crop</td>\n    </tr>\n    <tr>\n      <th>1600</th>\n      <td>2020-06-21</td>\n      <td>6</td>\n      <td>6</td>\n      <td>TL6776233143</td>\n      <td>P6210009</td>\n      <td>P6210010</td>\n      <td>1</td>\n      <td>0</td>\n      <td>Bromus hordeaceus</td>\n      <td>Near fence and arable crop</td>\n    </tr>\n  </tbody>\n</table>\n<p>1601 rows × 10 columns</p>\n</div>"
     },
     "execution_count": 5,
     "metadata": {},
     "output_type": "execute_result"
    }
   ]
  },
  {
   "cell_type": "code",
   "execution_count": null,
   "outputs": [],
   "source": [],
   "metadata": {
    "collapsed": false
   }
  }
 ],
 "metadata": {
  "kernelspec": {
   "name": "python3",
   "language": "python",
   "display_name": "Python 3 (ipykernel)"
  },
  "language_info": {
   "mimetype": "text/x-python",
   "nbconvert_exporter": "python",
   "name": "python",
   "pygments_lexer": "ipython2",
   "version": "3.7.7-final",
   "file_extension": ".py",
   "codemirror_mode": {
    "version": 2,
    "name": "ipython"
   }
  }
 },
 "nbformat": 4,
 "nbformat_minor": 2
}
