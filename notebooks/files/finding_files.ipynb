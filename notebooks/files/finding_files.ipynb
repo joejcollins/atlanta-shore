{
 "cells": [
  {
   "cell_type": "markdown",
   "metadata": {},
   "source": [
    "# Finding Files\n",
    "\n",
    "The observation files are in CSV files spread across multiple directories.\n",
    "We need to get a list of those files for processing."
   ]
  },
  {
   "cell_type": "code",
   "execution_count": 16,
   "metadata": {},
   "outputs": [
    {
     "name": "stdout",
     "output_type": "stream",
     "text": [
      "/workspaces/atlanta-shore/data/raw/2019-02/data-plant-2019-02-01-MEC.csv\n",
      "/workspaces/atlanta-shore/data/raw/2019-02/data-plant-2019-02-02-MEC.csv\n",
      "/workspaces/atlanta-shore/data/raw/2019-06/data-plant-2019-06-20-MEC.csv\n",
      "/workspaces/atlanta-shore/data/raw/2019-06/data-plant-2019-06-21-MEC.csv\n",
      "/workspaces/atlanta-shore/data/raw/2020-06/data-plant-2020-06-19-MEC.csv\n",
      "/workspaces/atlanta-shore/data/raw/2020-06/data-plant-2020-06-20-MEC.csv\n",
      "/workspaces/atlanta-shore/data/raw/2020-06/data-plant-2020-06-21-MEC.csv\n",
      "/workspaces/atlanta-shore/data/raw/2021-06/data-plant-2021-06-20-MEC.csv\n",
      "/workspaces/atlanta-shore/data/raw/2021-06/data-plant-2021-06-21-MEC.csv\n",
      "/workspaces/atlanta-shore/data/raw/2022-06/data-plant-2022-06-24-MEC.csv\n",
      "/workspaces/atlanta-shore/data/raw/2022-06/data-plant-2022-06-25-MEC.csv\n",
      "/workspaces/atlanta-shore/data/raw/2022-06/data-plant-2022-06-26-MEC.csv\n",
      "/workspaces/atlanta-shore/data/raw/2023-06/data-plant-2023-06-22-MEC.csv\n",
      "/workspaces/atlanta-shore/data/raw/2023-06/data-plant-2023-06-23-MEC.csv\n",
      "/workspaces/atlanta-shore/data/raw/2023-06/data-plant-2023-06-24-MEC.csv\n",
      "/workspaces/atlanta-shore/data/raw/2023-06/data-plant-2023-06-25-MEC.csv\n",
      "/workspaces/atlanta-shore/data/raw/2024-06/data-plant-2024-06-21-MEC.csv\n",
      "/workspaces/atlanta-shore/data/raw/2024-06/data-plant-2024-06-22-MEC.csv\n"
     ]
    }
   ],
   "source": [
    "import glob\n",
    "from os import path\n",
    "\n",
    "from atlanta_shore import file_finder_service\n",
    "\n",
    "file_finder = file_finder_service.FileFinderService()\n",
    "\n",
    "# Define the root directory where you want to start the search\n",
    "start_dir = path.join(file_finder.find_root(), 'data')\n",
    "glob_pathname = path.join(start_dir, '**', 'data-plant*.csv')\n",
    "\n",
    "# Use glob to find all the files in the directory and its subdirectories\n",
    "observation_files = glob.glob(glob_pathname, recursive=True)\n",
    "observation_files.sort()\n",
    "for file in observation_files:\n",
    "    print(file)"
   ]
  }
 ],
 "metadata": {
  "kernelspec": {
   "display_name": ".venv",
   "language": "python",
   "name": "python3"
  },
  "language_info": {
   "codemirror_mode": {
    "name": "ipython",
    "version": 3
   },
   "file_extension": ".py",
   "mimetype": "text/x-python",
   "name": "python",
   "nbconvert_exporter": "python",
   "pygments_lexer": "ipython3",
   "version": "3.10.12"
  }
 },
 "nbformat": 4,
 "nbformat_minor": 2
}
