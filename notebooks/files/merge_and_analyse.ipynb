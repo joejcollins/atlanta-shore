{
 "cells": [
  {
   "cell_type": "markdown",
   "id": "d80317686102d0cc",
   "metadata": {},
   "source": [
    "# Merge gpx and obs data.\n",
    "Could incorporate this in code (for testing / consistency)"
   ]
  },
  {
   "cell_type": "code",
   "execution_count": 1,
   "id": "e25b8db3e187b943",
   "metadata": {
    "ExecuteTime": {
     "end_time": "2025-03-18T22:51:53.436237Z",
     "start_time": "2025-03-18T22:51:53.433999Z"
    }
   },
   "outputs": [
    {
     "name": "stdout",
     "output_type": "stream",
     "text": [
      "merge loaded\n"
     ]
    }
   ],
   "source": [
    "print('merge loaded')"
   ]
  },
  {
   "cell_type": "code",
   "execution_count": 2,
   "id": "c010c184a70dcd4",
   "metadata": {
    "ExecuteTime": {
     "end_time": "2025-03-18T22:51:53.440837Z",
     "start_time": "2025-03-18T22:51:53.438942Z"
    }
   },
   "outputs": [],
   "source": [
    "import pandas as pd"
   ]
  },
  {
   "cell_type": "markdown",
   "id": "6160285825f1e51e",
   "metadata": {},
   "source": [
    "Looks like there's a cross reference to waypoint id"
   ]
  },
  {
   "cell_type": "markdown",
   "id": "a2ce25fd0b3846f6",
   "metadata": {},
   "source": [
    "Create a waypoint_year index column in gpx and observations then we can combine"
   ]
  },
  {
   "cell_type": "code",
   "execution_count": 3,
   "id": "ec7ff3b75b26637a",
   "metadata": {
    "ExecuteTime": {
     "end_time": "2025-03-18T22:51:53.489068Z",
     "start_time": "2025-03-18T22:51:53.486430Z"
    }
   },
   "outputs": [],
   "source": [
    "def get_merged_dataframe():\n",
    "    \"\"\"Creates and returns the merged DataFrame.\"\"\"\n",
    "\n",
    "    gpx_df = pd.read_csv(\"../../data/processed/gpx_observations.csv\")\n",
    "    gpx_df[\"waypoint_date\"] = gpx_df[\"name\"].astype(str) + \"_\" + gpx_df[\"date\"].astype(str)\n",
    "\n",
    "    observations_df = pd.read_csv(\"../../data/processed/observations.csv\")\n",
    "    observations_df[\"waypoint_date\"] = observations_df[\"garmin_waypoint_id\"].astype(str) + \"_\" + observations_df[\"observation_date\"].astype(str)\n",
    "\n",
    "    df = pd.merge(observations_df, gpx_df[[\"lat\", \"lon\", \"ele\", \"cmt\", \"date\", \"waypoint_date\"]], on=\"waypoint_date\", how=\"left\")\n",
    "\n",
    "    return df"
   ]
  },
  {
   "cell_type": "code",
   "execution_count": 4,
   "id": "8d5dab69b84e13b8",
   "metadata": {
    "ExecuteTime": {
     "end_time": "2025-03-18T22:51:53.498739Z",
     "start_time": "2025-03-18T22:51:53.491323Z"
    }
   },
   "outputs": [],
   "source": [
    "df = get_merged_dataframe()"
   ]
  },
  {
   "cell_type": "code",
   "execution_count": 5,
   "id": "b145d96eadc0345c",
   "metadata": {
    "ExecuteTime": {
     "end_time": "2025-03-18T22:51:53.569500Z",
     "start_time": "2025-03-18T22:51:53.561147Z"
    }
   },
   "outputs": [
    {
     "data": {
      "text/html": [
       "<div>\n",
       "<style scoped>\n",
       "    .dataframe tbody tr th:only-of-type {\n",
       "        vertical-align: middle;\n",
       "    }\n",
       "\n",
       "    .dataframe tbody tr th {\n",
       "        vertical-align: top;\n",
       "    }\n",
       "\n",
       "    .dataframe thead th {\n",
       "        text-align: right;\n",
       "    }\n",
       "</style>\n",
       "<table border=\"1\" class=\"dataframe\">\n",
       "  <thead>\n",
       "    <tr style=\"text-align: right;\">\n",
       "      <th></th>\n",
       "      <th>sample_point_id</th>\n",
       "      <th>observation_date</th>\n",
       "      <th>garmin_waypoint_id</th>\n",
       "      <th>garmin_grid_ref</th>\n",
       "      <th>photo_up_id</th>\n",
       "      <th>photo_down_id</th>\n",
       "      <th>wetness_estimate</th>\n",
       "      <th>canopy_cover_estimate</th>\n",
       "      <th>species_identified</th>\n",
       "      <th>waypoint_date</th>\n",
       "      <th>lat</th>\n",
       "      <th>lon</th>\n",
       "      <th>ele</th>\n",
       "      <th>cmt</th>\n",
       "      <th>date</th>\n",
       "    </tr>\n",
       "  </thead>\n",
       "  <tbody>\n",
       "    <tr>\n",
       "      <th>0</th>\n",
       "      <td>9</td>\n",
       "      <td>2019-02-01</td>\n",
       "      <td>1</td>\n",
       "      <td>TL6787633142</td>\n",
       "      <td>P2010002</td>\n",
       "      <td>P2010003</td>\n",
       "      <td>1.0</td>\n",
       "      <td>95</td>\n",
       "      <td>['Mercurialis perennis', 'Urtica dioica', 'Sil...</td>\n",
       "      <td>1_2019-02-01</td>\n",
       "      <td>51.971350</td>\n",
       "      <td>0.442538</td>\n",
       "      <td>75.789368</td>\n",
       "      <td>NaN</td>\n",
       "      <td>2019-02-01</td>\n",
       "    </tr>\n",
       "    <tr>\n",
       "      <th>1</th>\n",
       "      <td>59</td>\n",
       "      <td>2019-02-01</td>\n",
       "      <td>2</td>\n",
       "      <td>TL6787433118</td>\n",
       "      <td>P2010004</td>\n",
       "      <td>P2010005</td>\n",
       "      <td>1.0</td>\n",
       "      <td>65</td>\n",
       "      <td>['Silene dioica', 'Galium aparine', 'Glechoma ...</td>\n",
       "      <td>2_2019-02-01</td>\n",
       "      <td>51.971138</td>\n",
       "      <td>0.442500</td>\n",
       "      <td>81.909317</td>\n",
       "      <td>NaN</td>\n",
       "      <td>2019-02-01</td>\n",
       "    </tr>\n",
       "    <tr>\n",
       "      <th>2</th>\n",
       "      <td>46</td>\n",
       "      <td>2019-02-01</td>\n",
       "      <td>3</td>\n",
       "      <td>TL6787933089</td>\n",
       "      <td>P2010006</td>\n",
       "      <td>P2010007</td>\n",
       "      <td>1.0</td>\n",
       "      <td>45</td>\n",
       "      <td>['Glechoma hederacea', 'Galium aparine', 'Sile...</td>\n",
       "      <td>3_2019-02-01</td>\n",
       "      <td>51.970874</td>\n",
       "      <td>0.442566</td>\n",
       "      <td>74.995232</td>\n",
       "      <td>NaN</td>\n",
       "      <td>2019-02-01</td>\n",
       "    </tr>\n",
       "    <tr>\n",
       "      <th>3</th>\n",
       "      <td>30</td>\n",
       "      <td>2019-02-01</td>\n",
       "      <td>4</td>\n",
       "      <td>TL6787633061</td>\n",
       "      <td>P2010008</td>\n",
       "      <td>P2010009</td>\n",
       "      <td>1.0</td>\n",
       "      <td>0</td>\n",
       "      <td>['Urtica dioica', 'Rubus fruticosus agg.', 'Gl...</td>\n",
       "      <td>4_2019-02-01</td>\n",
       "      <td>51.970619</td>\n",
       "      <td>0.442503</td>\n",
       "      <td>73.338715</td>\n",
       "      <td>NaN</td>\n",
       "      <td>2019-02-01</td>\n",
       "    </tr>\n",
       "    <tr>\n",
       "      <th>4</th>\n",
       "      <td>60</td>\n",
       "      <td>2019-02-01</td>\n",
       "      <td>5</td>\n",
       "      <td>TL6790833003</td>\n",
       "      <td>P2010010</td>\n",
       "      <td>P2010011</td>\n",
       "      <td>1.0</td>\n",
       "      <td>0</td>\n",
       "      <td>['Triticum aestivum']</td>\n",
       "      <td>5_2019-02-01</td>\n",
       "      <td>51.970119</td>\n",
       "      <td>0.442947</td>\n",
       "      <td>73.245712</td>\n",
       "      <td>NaN</td>\n",
       "      <td>2019-02-01</td>\n",
       "    </tr>\n",
       "  </tbody>\n",
       "</table>\n",
       "</div>"
      ],
      "text/plain": [
       "   sample_point_id observation_date  garmin_waypoint_id garmin_grid_ref  \\\n",
       "0                9       2019-02-01                   1    TL6787633142   \n",
       "1               59       2019-02-01                   2    TL6787433118   \n",
       "2               46       2019-02-01                   3    TL6787933089   \n",
       "3               30       2019-02-01                   4    TL6787633061   \n",
       "4               60       2019-02-01                   5    TL6790833003   \n",
       "\n",
       "  photo_up_id photo_down_id  wetness_estimate  canopy_cover_estimate  \\\n",
       "0    P2010002      P2010003               1.0                     95   \n",
       "1    P2010004      P2010005               1.0                     65   \n",
       "2    P2010006      P2010007               1.0                     45   \n",
       "3    P2010008      P2010009               1.0                      0   \n",
       "4    P2010010      P2010011               1.0                      0   \n",
       "\n",
       "                                  species_identified waypoint_date        lat  \\\n",
       "0  ['Mercurialis perennis', 'Urtica dioica', 'Sil...  1_2019-02-01  51.971350   \n",
       "1  ['Silene dioica', 'Galium aparine', 'Glechoma ...  2_2019-02-01  51.971138   \n",
       "2  ['Glechoma hederacea', 'Galium aparine', 'Sile...  3_2019-02-01  51.970874   \n",
       "3  ['Urtica dioica', 'Rubus fruticosus agg.', 'Gl...  4_2019-02-01  51.970619   \n",
       "4                              ['Triticum aestivum']  5_2019-02-01  51.970119   \n",
       "\n",
       "        lon        ele  cmt        date  \n",
       "0  0.442538  75.789368  NaN  2019-02-01  \n",
       "1  0.442500  81.909317  NaN  2019-02-01  \n",
       "2  0.442566  74.995232  NaN  2019-02-01  \n",
       "3  0.442503  73.338715  NaN  2019-02-01  \n",
       "4  0.442947  73.245712  NaN  2019-02-01  "
      ]
     },
     "execution_count": 5,
     "metadata": {},
     "output_type": "execute_result"
    }
   ],
   "source": [
    "df.head()"
   ]
  },
  {
   "cell_type": "code",
   "execution_count": 6,
   "id": "4ceccfb66dadc360",
   "metadata": {
    "ExecuteTime": {
     "end_time": "2025-03-18T22:51:53.600898Z",
     "start_time": "2025-03-18T22:51:53.598049Z"
    }
   },
   "outputs": [
    {
     "data": {
      "text/plain": [
       "Index(['sample_point_id', 'observation_date', 'garmin_waypoint_id',\n",
       "       'garmin_grid_ref', 'photo_up_id', 'photo_down_id', 'wetness_estimate',\n",
       "       'canopy_cover_estimate', 'species_identified', 'waypoint_date', 'lat',\n",
       "       'lon', 'ele', 'cmt', 'date'],\n",
       "      dtype='object')"
      ]
     },
     "execution_count": 6,
     "metadata": {},
     "output_type": "execute_result"
    }
   ],
   "source": [
    "df.columns"
   ]
  },
  {
   "cell_type": "markdown",
   "id": "d4b959a0bd6fc86b",
   "metadata": {},
   "source": [
    "# Analysis - Understanding the data\n",
    "## First go at wetness heat map"
   ]
  },
  {
   "cell_type": "code",
   "execution_count": 7,
   "id": "ce201fb4339b74b4",
   "metadata": {
    "ExecuteTime": {
     "end_time": "2025-03-18T22:51:53.628699Z",
     "start_time": "2025-03-18T22:51:53.626770Z"
    }
   },
   "outputs": [],
   "source": [
    "import pandas as pd\n",
    "import matplotlib.pyplot as plt\n",
    "import seaborn as snsb"
   ]
  },
  {
   "cell_type": "markdown",
   "id": "a92fc658cf250036",
   "metadata": {},
   "source": [
    "Load and prepare data"
   ]
  },
  {
   "cell_type": "code",
   "execution_count": 8,
   "id": "757359982a378b56",
   "metadata": {
    "ExecuteTime": {
     "end_time": "2025-03-18T22:51:53.668343Z",
     "start_time": "2025-03-18T22:51:53.658667Z"
    }
   },
   "outputs": [],
   "source": [
    "df['observation_date'] = pd.to_datetime(df['observation_date'])\n",
    "# Filter for June 2019\n",
    "df_june_2019 = df[(df['observation_date'].dt.month == 6) & (df['observation_date'].dt.year == 2019)]"
   ]
  },
  {
   "cell_type": "code",
   "execution_count": 9,
   "id": "a9951aa538437000",
   "metadata": {
    "ExecuteTime": {
     "end_time": "2025-03-18T22:51:53.689895Z",
     "start_time": "2025-03-18T22:51:53.684495Z"
    }
   },
   "outputs": [
    {
     "data": {
      "text/html": [
       "<div>\n",
       "<style scoped>\n",
       "    .dataframe tbody tr th:only-of-type {\n",
       "        vertical-align: middle;\n",
       "    }\n",
       "\n",
       "    .dataframe tbody tr th {\n",
       "        vertical-align: top;\n",
       "    }\n",
       "\n",
       "    .dataframe thead th {\n",
       "        text-align: right;\n",
       "    }\n",
       "</style>\n",
       "<table border=\"1\" class=\"dataframe\">\n",
       "  <thead>\n",
       "    <tr style=\"text-align: right;\">\n",
       "      <th></th>\n",
       "      <th>sample_point_id</th>\n",
       "      <th>observation_date</th>\n",
       "      <th>garmin_waypoint_id</th>\n",
       "      <th>garmin_grid_ref</th>\n",
       "      <th>photo_up_id</th>\n",
       "      <th>photo_down_id</th>\n",
       "      <th>wetness_estimate</th>\n",
       "      <th>canopy_cover_estimate</th>\n",
       "      <th>species_identified</th>\n",
       "      <th>waypoint_date</th>\n",
       "      <th>lat</th>\n",
       "      <th>lon</th>\n",
       "      <th>ele</th>\n",
       "      <th>cmt</th>\n",
       "      <th>date</th>\n",
       "    </tr>\n",
       "  </thead>\n",
       "  <tbody>\n",
       "    <tr>\n",
       "      <th>0</th>\n",
       "      <td>9</td>\n",
       "      <td>2019-02-01</td>\n",
       "      <td>1</td>\n",
       "      <td>TL6787633142</td>\n",
       "      <td>P2010002</td>\n",
       "      <td>P2010003</td>\n",
       "      <td>1.0</td>\n",
       "      <td>95</td>\n",
       "      <td>['Mercurialis perennis', 'Urtica dioica', 'Sil...</td>\n",
       "      <td>1_2019-02-01</td>\n",
       "      <td>51.971350</td>\n",
       "      <td>0.442538</td>\n",
       "      <td>75.789368</td>\n",
       "      <td>NaN</td>\n",
       "      <td>2019-02-01</td>\n",
       "    </tr>\n",
       "    <tr>\n",
       "      <th>1</th>\n",
       "      <td>59</td>\n",
       "      <td>2019-02-01</td>\n",
       "      <td>2</td>\n",
       "      <td>TL6787433118</td>\n",
       "      <td>P2010004</td>\n",
       "      <td>P2010005</td>\n",
       "      <td>1.0</td>\n",
       "      <td>65</td>\n",
       "      <td>['Silene dioica', 'Galium aparine', 'Glechoma ...</td>\n",
       "      <td>2_2019-02-01</td>\n",
       "      <td>51.971138</td>\n",
       "      <td>0.442500</td>\n",
       "      <td>81.909317</td>\n",
       "      <td>NaN</td>\n",
       "      <td>2019-02-01</td>\n",
       "    </tr>\n",
       "    <tr>\n",
       "      <th>2</th>\n",
       "      <td>46</td>\n",
       "      <td>2019-02-01</td>\n",
       "      <td>3</td>\n",
       "      <td>TL6787933089</td>\n",
       "      <td>P2010006</td>\n",
       "      <td>P2010007</td>\n",
       "      <td>1.0</td>\n",
       "      <td>45</td>\n",
       "      <td>['Glechoma hederacea', 'Galium aparine', 'Sile...</td>\n",
       "      <td>3_2019-02-01</td>\n",
       "      <td>51.970874</td>\n",
       "      <td>0.442566</td>\n",
       "      <td>74.995232</td>\n",
       "      <td>NaN</td>\n",
       "      <td>2019-02-01</td>\n",
       "    </tr>\n",
       "    <tr>\n",
       "      <th>3</th>\n",
       "      <td>30</td>\n",
       "      <td>2019-02-01</td>\n",
       "      <td>4</td>\n",
       "      <td>TL6787633061</td>\n",
       "      <td>P2010008</td>\n",
       "      <td>P2010009</td>\n",
       "      <td>1.0</td>\n",
       "      <td>0</td>\n",
       "      <td>['Urtica dioica', 'Rubus fruticosus agg.', 'Gl...</td>\n",
       "      <td>4_2019-02-01</td>\n",
       "      <td>51.970619</td>\n",
       "      <td>0.442503</td>\n",
       "      <td>73.338715</td>\n",
       "      <td>NaN</td>\n",
       "      <td>2019-02-01</td>\n",
       "    </tr>\n",
       "    <tr>\n",
       "      <th>4</th>\n",
       "      <td>60</td>\n",
       "      <td>2019-02-01</td>\n",
       "      <td>5</td>\n",
       "      <td>TL6790833003</td>\n",
       "      <td>P2010010</td>\n",
       "      <td>P2010011</td>\n",
       "      <td>1.0</td>\n",
       "      <td>0</td>\n",
       "      <td>['Triticum aestivum']</td>\n",
       "      <td>5_2019-02-01</td>\n",
       "      <td>51.970119</td>\n",
       "      <td>0.442947</td>\n",
       "      <td>73.245712</td>\n",
       "      <td>NaN</td>\n",
       "      <td>2019-02-01</td>\n",
       "    </tr>\n",
       "  </tbody>\n",
       "</table>\n",
       "</div>"
      ],
      "text/plain": [
       "   sample_point_id observation_date  garmin_waypoint_id garmin_grid_ref  \\\n",
       "0                9       2019-02-01                   1    TL6787633142   \n",
       "1               59       2019-02-01                   2    TL6787433118   \n",
       "2               46       2019-02-01                   3    TL6787933089   \n",
       "3               30       2019-02-01                   4    TL6787633061   \n",
       "4               60       2019-02-01                   5    TL6790833003   \n",
       "\n",
       "  photo_up_id photo_down_id  wetness_estimate  canopy_cover_estimate  \\\n",
       "0    P2010002      P2010003               1.0                     95   \n",
       "1    P2010004      P2010005               1.0                     65   \n",
       "2    P2010006      P2010007               1.0                     45   \n",
       "3    P2010008      P2010009               1.0                      0   \n",
       "4    P2010010      P2010011               1.0                      0   \n",
       "\n",
       "                                  species_identified waypoint_date        lat  \\\n",
       "0  ['Mercurialis perennis', 'Urtica dioica', 'Sil...  1_2019-02-01  51.971350   \n",
       "1  ['Silene dioica', 'Galium aparine', 'Glechoma ...  2_2019-02-01  51.971138   \n",
       "2  ['Glechoma hederacea', 'Galium aparine', 'Sile...  3_2019-02-01  51.970874   \n",
       "3  ['Urtica dioica', 'Rubus fruticosus agg.', 'Gl...  4_2019-02-01  51.970619   \n",
       "4                              ['Triticum aestivum']  5_2019-02-01  51.970119   \n",
       "\n",
       "        lon        ele  cmt        date  \n",
       "0  0.442538  75.789368  NaN  2019-02-01  \n",
       "1  0.442500  81.909317  NaN  2019-02-01  \n",
       "2  0.442566  74.995232  NaN  2019-02-01  \n",
       "3  0.442503  73.338715  NaN  2019-02-01  \n",
       "4  0.442947  73.245712  NaN  2019-02-01  "
      ]
     },
     "execution_count": 9,
     "metadata": {},
     "output_type": "execute_result"
    }
   ],
   "source": [
    "df.head()"
   ]
  },
  {
   "cell_type": "code",
   "execution_count": 10,
   "id": "63c222237d53b0ba",
   "metadata": {
    "ExecuteTime": {
     "end_time": "2025-03-18T22:51:53.847981Z",
     "start_time": "2025-03-18T22:51:53.716942Z"
    },
    "jupyter": {
     "source_hidden": true
    }
   },
   "outputs": [
    {
     "data": {
      "image/png": "[encoded data removed]",
      "text/plain": [
       "<Figure size 1000x800 with 2 Axes>"
      ]
     },
     "metadata": {},
     "output_type": "display_data"
    }
   ],
   "source": [
    "plt.figure(figsize=(10, 8))\n",
    "scatter = plt.scatter(x=df_june_2019['lon'], y=df_june_2019['lat'], c=df_june_2019['wetness_estimate'], cmap='viridis')\n",
    "plt.colorbar(scatter, label='Wetness Estimate')\n",
    "plt.xlabel('Longitude')\n",
    "plt.ylabel('Latitude')\n",
    "plt.title('Wetness Estimate Heatmap (June 2019)')\n",
    "plt.show()"
   ]
  },
  {
   "cell_type": "code",
   "execution_count": 11,
   "id": "c33c66ba-ab06-4dad-ab73-48a338d76a44",
   "metadata": {},
   "outputs": [],
   "source": [
    "from IPython.display import display, clear_output, HTML\n",
    "import folium\n",
    "import matplotlib.pyplot as plt\n",
    "import matplotlib.colors\n",
    "import branca.colormap\n",
    "\n",
    "def update_map(year):\n",
    "    print(f\"Updating map for year: {year}\")\n",
    "\n",
    "    # Filter DataFrame for the selected year\n",
    "    year_data = yearly_data.get(year)\n",
    "    if year_data is not None:\n",
    "        print(f\"Number of observations for {year}: {len(year_data)}\")\n",
    "\n",
    "        # Remove all existing layers\n",
    "        for layer_year in list(layer_registry.keys()):\n",
    "            if layer_registry[layer_year] in m._children.values():\n",
    "                for key, value in list(m._children.items()):\n",
    "                    if value == layer_registry[layer_year]:\n",
    "                        del m._children[key]\n",
    "                        break\n",
    "            del layer_registry[layer_year]\n",
    "\n",
    "        # Clear the layer control\n",
    "        if hasattr(m, 'layer_control'):\n",
    "            m.layer_control = None\n",
    "\n",
    "        # Create a new FeatureGroup for the current year\n",
    "        current_layer = folium.FeatureGroup(name=f\"Markers {year}\")\n",
    "        layer_registry[year] = current_layer\n",
    "\n",
    "        # Create color normalization\n",
    "        min_wetness = df['wetness_estimate'].min()\n",
    "        max_wetness = df['wetness_estimate'].max()\n",
    "        cmap = plt.get_cmap('viridis')\n",
    "        norm = matplotlib.colors.Normalize(vmin=min_wetness, vmax=max_wetness)\n",
    "\n",
    "        # Add CircleMarkers with colors based on wetness\n",
    "        for index, row in year_data.iterrows():\n",
    "            lat, lon, wetness = row['lat'], row['lon'], row['wetness_estimate']\n",
    "            \n",
    "            # Calculate color using normalization\n",
    "            color_rgba = cmap(norm(wetness))\n",
    "            color_hex = matplotlib.colors.to_hex(color_rgba)\n",
    "\n",
    "            folium.CircleMarker(\n",
    "                location=(lat, lon),\n",
    "                radius=5,\n",
    "                color=color_hex,\n",
    "                fill=True,\n",
    "                fill_color=color_hex,\n",
    "                fill_opacity=0.6,\n",
    "                tooltip=f\"Wetness: {wetness}, Date: {row['date']}\",\n",
    "            ).add_to(current_layer)\n",
    "\n",
    "        current_layer.add_to(m)\n",
    "        print(f\"Layers added: {len(year_data)}\")\n",
    "\n",
    "        # Update colormap\n",
    "        if 'colormap' in m._children:\n",
    "            del m._children['colormap']\n",
    "        \n",
    "        colormap = branca.colormap.LinearColormap(\n",
    "            ['blue', 'yellow', 'red'],\n",
    "            vmin=min_wetness,\n",
    "            vmax=max_wetness\n",
    "        )\n",
    "        colormap.caption = f\"Wetness Estimate ({year})\"\n",
    "        colormap.add_to(m)\n",
    "\n",
    "        # Fit map bounds to the current year's data\n",
    "        m.fit_bounds(year_data[['lat', 'lon']].values.tolist())\n",
    "\n",
    "        # Add a new layer control\n",
    "        folium.LayerControl().add_to(m)\n",
    "\n",
    "    with output:\n",
    "        clear_output(wait=True)\n",
    "        display(m)\n",
    "\n",
    "    # Force a JavaScript update of the map\n",
    "    display(HTML(\"<script>document.getElementsByClassName('folium-map')[0]._leaflet_map.invalidateSize(true);</script>\"))\n"
   ]
  },
  {
   "cell_type": "code",
   "execution_count": 12,
   "id": "89cb25f6-dfff-4137-b4bf-d3e264f3f688",
   "metadata": {
    "scrolled": true
   },
   "outputs": [
    {
     "name": "stdout",
     "output_type": "stream",
     "text": [
      "8.1.5\n",
      "Updating map for year: 2019\n",
      "Number of observations for 2019: 48\n",
      "Layers added: 48\n"
     ]
    },
    {
     "data": {
      "text/html": [
       "<script>document.getElementsByClassName('folium-map')[0]._leaflet_map.invalidateSize(true);</script>"
      ],
      "text/plain": [
       "<IPython.core.display.HTML object>"
      ]
     },
     "metadata": {},
     "output_type": "display_data"
    },
    {
     "data": {
      "application/vnd.jupyter.widget-view+json": {
       "model_id": "925c2168be534c41b4325a4ce587e94c",
       "version_major": 2,
       "version_minor": 0
      },
      "text/plain": [
       "VBox(children=(Dropdown(description='Year:', options=(2019, 2020, 2021, 2022, 2023, 2024), value=2019), Output…"
      ]
     },
     "metadata": {},
     "output_type": "display_data"
    }
   ],
   "source": [
    "import folium\n",
    "import pandas as pd\n",
    "import ipywidgets as widgets\n",
    "from IPython.display import display, clear_output, HTML\n",
    "import matplotlib.pyplot as plt\n",
    "import matplotlib.colors\n",
    "import branca.colormap\n",
    "\n",
    "\n",
    "# Assuming your DataFrame is named 'df'\n",
    "print(widgets.__version__)\n",
    "\n",
    "# Convert 'date' to datetime\n",
    "df['date'] = pd.to_datetime(df['date'])\n",
    "\n",
    "# Filter out February 2019\n",
    "df = df[~((df['date'].dt.year == 2019) & (df['date'].dt.month == 2))]\n",
    "\n",
    "# Extract year\n",
    "df['year'] = df['date'].dt.year\n",
    "\n",
    "# Group data by year\n",
    "yearly_data = {year: group for year, group in df.groupby('year')}\n",
    "\n",
    "# Create the base map\n",
    "m = folium.Map(location=[df['lat'].mean(), df['lon'].mean()], zoom_start=16)\n",
    "\n",
    "# Create the dropdown menu\n",
    "years = sorted(list(yearly_data.keys()))\n",
    "year_dropdown = widgets.Dropdown(options=years, value=min(years), description=\"Year:\")\n",
    "\n",
    "# Create layer registry\n",
    "layer_registry = {}\n",
    "\n",
    "# Create an Output widget for displaying the map\n",
    "output = widgets.Output()\n",
    "\n",
    "\n",
    "# Link the dropdown to the update function\n",
    "def on_year_change(change):\n",
    "    print(\"Dropdown value changed to:\", change.new)\n",
    "    update_map(change.new)\n",
    "\n",
    "year_dropdown.observe(on_year_change, names='value')\n",
    "\n",
    "# Create the VBox layout\n",
    "vbox = widgets.VBox([year_dropdown, output])\n",
    "\n",
    "# Initialize the map with the first year\n",
    "update_map(year_dropdown.value)\n",
    "\n",
    "# Add LayerControl\n",
    "folium.LayerControl(autoZIndex=True, collapsed=False).add_to(m)\n",
    "\n",
    "# Display the VBox\n",
    "display(vbox)\n"
   ]
  },
  {
   "cell_type": "code",
   "execution_count": null,
   "id": "5482b558-e0ae-4a0f-b511-b54867afe975",
   "metadata": {},
   "outputs": [],
   "source": []
  }
 ],
 "metadata": {
  "kernelspec": {
   "display_name": "new_atlanta",
   "language": "python",
   "name": "new_atlanta"
  },
  "language_info": {
   "codemirror_mode": {
    "name": "ipython",
    "version": 3
   },
   "file_extension": ".py",
   "mimetype": "text/x-python",
   "name": "python",
   "nbconvert_exporter": "python",
   "pygments_lexer": "ipython3",
   "version": "3.9.21"
  }
 },
 "nbformat": 4,
 "nbformat_minor": 5
}
